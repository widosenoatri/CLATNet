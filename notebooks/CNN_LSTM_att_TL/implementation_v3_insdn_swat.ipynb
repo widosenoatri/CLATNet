{
 "cells": [
  {
   "cell_type": "code",
   "execution_count": 1,
   "metadata": {},
   "outputs": [],
   "source": [
    "import torch, time\n",
    "import torch.nn as nn\n",
    "import torch.optim as optim\n",
    "from torch.utils.data import DataLoader, Dataset\n",
    "import pandas as pd\n",
    "import numpy as np\n",
    "from sklearn.preprocessing import StandardScaler\n",
    "from sklearn.decomposition import PCA\n",
    "from sklearn.model_selection import train_test_split\n",
    "from sklearn.utils.class_weight import compute_class_weight\n",
    "from sklearn.metrics import accuracy_score, precision_score, recall_score, f1_score, roc_auc_score, confusion_matrix, roc_curve, auc"
   ]
  },
  {
   "cell_type": "code",
   "execution_count": 2,
   "metadata": {},
   "outputs": [],
   "source": [
    "torch.cuda.empty_cache()\n",
    "\n",
    "# Define a 1D CNN-LSTM Model for PCA-reduced data\n",
    "class CNN_LSTM_1D(nn.Module):\n",
    "    def __init__(self, seq_length=20, num_classes=2):\n",
    "        super(CNN_LSTM_1D, self).__init__()\n",
    "        # Input expected: (batch_size, seq_length, feature_dim) where feature_dim=1.\n",
    "        # For Conv1d, input should be (batch_size, channels, seq_length); here channels=1.\n",
    "        self.conv1 = nn.Conv1d(in_channels=1, out_channels=32, kernel_size=3, padding=1)  # output: (batch_size, 32, seq_length)\n",
    "        self.relu1 = nn.ReLU()\n",
    "        self.pool1 = nn.MaxPool1d(kernel_size=2)  # halves the seq_length\n",
    "\n",
    "        self.conv2 = nn.Conv1d(in_channels=32, out_channels=64, kernel_size=3, padding=1)  # output: (batch_size, 64, seq_length/2)\n",
    "        self.relu2 = nn.ReLU()\n",
    "        self.pool2 = nn.MaxPool1d(kernel_size=2)  # output: (batch_size, 64, seq_length/4)\n",
    "\n",
    "        # With seq_length=20, after two poolings: 20 -> 10 -> 5.\n",
    "        # Interpret as a sequence of length 5 with 64 features each.\n",
    "        self.lstm = nn.LSTM(input_size=64, hidden_size=128, batch_first=True)\n",
    "        self.dropout = nn.Dropout(0.5)\n",
    "        self.fc = nn.Linear(128, num_classes)\n",
    "\n",
    "    def forward(self, x):\n",
    "        # x shape: (batch_size, seq_length, 1)\n",
    "        # For Conv1d, we want (batch_size, channels=1, seq_length)\n",
    "        x = x.transpose(1, 2)  # now shape: (batch_size, 1, seq_length)\n",
    "        x = self.conv1(x)\n",
    "        x = self.relu1(x)\n",
    "        x = self.pool1(x)\n",
    "        x = self.conv2(x)\n",
    "        x = self.relu2(x)\n",
    "        x = self.pool2(x)\n",
    "        # Now shape: (batch_size, 64, seq_length/4) -> (batch_size, 64, 5)\n",
    "        x = x.transpose(1, 2)  # now shape: (batch_size, 5, 64)\n",
    "        x, _ = self.lstm(x)   # LSTM outputs (batch_size, 5, 128)\n",
    "        x = self.dropout(x[:, -1, :])  # take last time step output\n",
    "        x = self.fc(x)\n",
    "        return x"
   ]
  },
  {
   "cell_type": "code",
   "execution_count": 3,
   "metadata": {},
   "outputs": [
    {
     "name": "stdout",
     "output_type": "stream",
     "text": [
      "Number of features before PCA: 79\n",
      "Explained variance ratio (PCA): 0.9059\n"
     ]
    }
   ],
   "source": [
    "# Load InSDN datasets\n",
    "ovs_data = pd.read_csv(\"data/InSDN_DatasetCSV/OVS.csv\")\n",
    "meta_data = pd.read_csv(\"data/InSDN_DatasetCSV/metasploitable-2.csv\")\n",
    "normal_data = pd.read_csv(\"data/InSDN_DatasetCSV/Normal_data.csv\")\n",
    "\n",
    "# Merge datasets\n",
    "data = pd.concat([ovs_data, meta_data, normal_data], ignore_index=True)\n",
    "data['Timestamp'] = pd.to_datetime(data['Timestamp'], format='mixed')\n",
    "data.set_index('Timestamp', inplace=True)\n",
    "data.sort_index(inplace=True)\n",
    "\n",
    "# Identify non-numeric columns and drop them, except 'Label'\n",
    "non_numeric_cols = data.select_dtypes(include=['object']).columns\n",
    "if 'Label' in non_numeric_cols:\n",
    "    non_numeric_cols = non_numeric_cols.drop('Label')\n",
    "data = data.drop(columns=non_numeric_cols)\n",
    "\n",
    "# Encode labels for binary classification (normal=0, attack=1)\n",
    "labels = (data['Label'] != 'Normal').astype(int)\n",
    "data = data.drop(columns=['Label'])\n",
    "\n",
    "# Use all features (e.g., 79 features) then apply PCA to reduce to 20 components\n",
    "print(f\"Number of features before PCA: {data.shape[1]}\")\n",
    "scaler = StandardScaler()\n",
    "data_scaled = scaler.fit_transform(data)\n",
    "\n",
    "pca_components = 20\n",
    "pca = PCA(n_components=pca_components)\n",
    "data_pca = pca.fit_transform(data_scaled)\n",
    "print(f\"Explained variance ratio (PCA): {pca.explained_variance_ratio_.sum():.4f}\")\n",
    "\n",
    "# Reshape the PCA output: each sample becomes a sequence of length 20 with 1 feature per time step.\n",
    "data_normalized = data_pca.reshape(-1, pca_components, 1)"
   ]
  },
  {
   "cell_type": "code",
   "execution_count": 4,
   "metadata": {},
   "outputs": [],
   "source": [
    "# Split into training and test sets\n",
    "X_train, X_test, y_train, y_test = train_test_split(data_normalized, labels, test_size=0.2, random_state=42)\n",
    "\n",
    "# DataLoader Class without unsqueeze (each sample is already (20,1))\n",
    "batch_size = 128\n",
    "def create_dataloader(X, y, batch_size=batch_size, shuffle=True):\n",
    "    dataset = [(torch.tensor(X[i], dtype=torch.float32), \n",
    "                torch.tensor(y.iloc[i], dtype=torch.long)) for i in range(len(y))]\n",
    "    return DataLoader(dataset, batch_size=batch_size, shuffle=shuffle)\n",
    "\n",
    "train_loader = create_dataloader(X_train, y_train, batch_size=batch_size, shuffle=True)\n",
    "test_loader = create_dataloader(X_test, y_test, batch_size=batch_size, shuffle=False)"
   ]
  },
  {
   "cell_type": "code",
   "execution_count": 5,
   "metadata": {},
   "outputs": [
    {
     "name": "stdout",
     "output_type": "stream",
     "text": [
      "Computed class weights: [2.51523158 0.62405522]\n",
      "Pretrained weights loaded.\n"
     ]
    }
   ],
   "source": [
    "# Compute class weights\n",
    "from sklearn.utils.class_weight import compute_class_weight\n",
    "classes = np.unique(y_train)\n",
    "class_weights_np = compute_class_weight(class_weight='balanced', classes=classes, y=y_train)\n",
    "print(\"Computed class weights:\", class_weights_np)\n",
    "\n",
    "device = torch.device(\"cuda\" if torch.cuda.is_available() else \"cpu\")\n",
    "\n",
    "# Transfer Learning: Initialize model and load pretrained weights\n",
    "# Note: Use the appropriate architecture parameters. Here we use seq_length equal to 20.\n",
    "model = CNN_LSTM_1D(seq_length=pca_components, num_classes=2).to(device)\n",
    "pretrained_path = \"models/08_cnn_lstm_pca_swat.pth\"  # Update this path to your pretrained checkpoint\n",
    "model.load_state_dict(torch.load(pretrained_path))\n",
    "print(\"Pretrained weights loaded.\")\n",
    "\n",
    "# Freeze CNN layers to use as fixed feature extractor\n",
    "for param in model.conv1.parameters():\n",
    "    param.requires_grad = False\n",
    "for param in model.conv2.parameters():\n",
    "    param.requires_grad = False\n",
    "\n",
    "# Set up optimizer to fine-tune only parameters that require gradients (LSTM and FC)\n",
    "optimizer = optim.Adam(filter(lambda p: p.requires_grad, model.parameters()), lr=0.001, weight_decay=1e-4)\n",
    "\n",
    "# Use class weights in loss function\n",
    "class_weights = torch.tensor(class_weights_np, dtype=torch.float32).to(device)\n",
    "criterion = nn.CrossEntropyLoss(weight=class_weights)"
   ]
  },
  {
   "cell_type": "code",
   "execution_count": 6,
   "metadata": {},
   "outputs": [
    {
     "name": "stdout",
     "output_type": "stream",
     "text": [
      "Epoch [1/10], Loss: 0.0496\n",
      "Epoch [2/10], Loss: 0.0092\n",
      "Epoch [3/10], Loss: 0.0072\n",
      "Epoch [4/10], Loss: 0.0063\n",
      "Epoch [5/10], Loss: 0.0064\n",
      "Epoch [6/10], Loss: 0.0063\n",
      "Epoch [7/10], Loss: 0.0058\n",
      "Epoch [8/10], Loss: 0.0058\n",
      "Epoch [9/10], Loss: 0.0057\n",
      "Epoch [10/10], Loss: 0.0056\n",
      "Training time: 69.4551 s\n"
     ]
    }
   ],
   "source": [
    "# Training Loop\n",
    "num_epochs = 10\n",
    "start_time = time.time()\n",
    "for epoch in range(num_epochs):\n",
    "    model.train()\n",
    "    total_loss = 0\n",
    "    for inputs, targets in train_loader:\n",
    "        inputs, targets = inputs.to(device), targets.to(device)\n",
    "        optimizer.zero_grad()\n",
    "        outputs = model(inputs)\n",
    "        loss = criterion(outputs, targets)\n",
    "        loss.backward()\n",
    "        optimizer.step()\n",
    "        total_loss += loss.item()\n",
    "    print(f\"Epoch [{epoch+1}/{num_epochs}], Loss: {total_loss/len(train_loader):.4f}\")\n",
    "\n",
    "total_time = time.time() - start_time\n",
    "print(f\"Training time: {total_time:.4f} s\")"
   ]
  },
  {
   "cell_type": "code",
   "execution_count": 7,
   "metadata": {},
   "outputs": [
    {
     "name": "stdout",
     "output_type": "stream",
     "text": [
      "\n",
      "Accuracy: 0.9989\n",
      "Precision: 0.9997\n",
      "Recall: 0.9990\n",
      "F1-score: 0.9993\n",
      "AUC: 0.9988\n",
      "\n",
      "\n",
      "Confusion Matrix:\n",
      "          Predicted 0  Predicted 1\n",
      "Actual 0        13716           19\n",
      "Actual 1           55        54988\n"
     ]
    }
   ],
   "source": [
    "# Evaluation\n",
    "model.eval()\n",
    "y_true, y_pred = [], []\n",
    "with torch.no_grad():\n",
    "    for inputs, targets in test_loader:\n",
    "        inputs, targets = inputs.to(device), targets.to(device)\n",
    "        outputs = model(inputs)\n",
    "        _, predicted = torch.max(outputs, 1)\n",
    "        y_true.extend(targets.cpu().numpy())\n",
    "        y_pred.extend(predicted.cpu().numpy())\n",
    "\n",
    "acc = accuracy_score(y_true, y_pred)\n",
    "prec = precision_score(y_true, y_pred)\n",
    "rec = recall_score(y_true, y_pred)\n",
    "f1 = f1_score(y_true, y_pred)\n",
    "auc_score = roc_auc_score(y_true, y_pred)\n",
    "\n",
    "print(f\"\\nAccuracy: {acc:.4f}\\nPrecision: {prec:.4f}\\nRecall: {rec:.4f}\\nF1-score: {f1:.4f}\\nAUC: {auc_score:.4f}\\n\")\n",
    "cm = confusion_matrix(y_true, y_pred)\n",
    "cm_df = pd.DataFrame(cm, index=[\"Actual 0\", \"Actual 1\"], columns=[\"Predicted 0\", \"Predicted 1\"])\n",
    "print(\"\\nConfusion Matrix:\")\n",
    "print(cm_df)"
   ]
  },
  {
   "cell_type": "code",
   "execution_count": 8,
   "metadata": {},
   "outputs": [],
   "source": [
    "# Save model\n",
    "save_path = \"models/08_cnn_lstm_pca_finetuned_insdn_swat.pth\"\n",
    "torch.save(model.state_dict(), save_path)"
   ]
  },
  {
   "cell_type": "code",
   "execution_count": 9,
   "metadata": {},
   "outputs": [
    {
     "data": {
      "image/png": "[encoded data removed]",
      "text/plain": [
       "<Figure size 640x480 with 1 Axes>"
      ]
     },
     "metadata": {},
     "output_type": "display_data"
    }
   ],
   "source": [
    "import matplotlib.pyplot as plt\n",
    "# Get probabilities (for binary classification, we use prob for class 1)\n",
    "y_scores = []\n",
    "with torch.no_grad():\n",
    "    for inputs, targets in test_loader:\n",
    "        inputs = inputs.to(device)\n",
    "        outputs = model(inputs)\n",
    "        probs = torch.softmax(outputs, dim=1)[:, 1]  # Get prob for class 1\n",
    "        y_scores.extend(probs.cpu().numpy())\n",
    "\n",
    "# Now compute ROC data\n",
    "fpr, tpr, thresholds = roc_curve(y_true, y_scores)\n",
    "roc_auc = auc(fpr, tpr)\n",
    "\n",
    "# Plot\n",
    "plt.figure()\n",
    "plt.plot(fpr, tpr, label=f'ROC curve (AUC = {roc_auc:.4f})')\n",
    "plt.plot([0, 1], [0, 1], 'k--')  # Diagonal\n",
    "plt.xlabel('False Positive Rate')\n",
    "plt.ylabel('True Positive Rate')\n",
    "plt.title('Receiver Operating Characteristic (ROC) Curve')\n",
    "plt.legend(loc='lower right')\n",
    "plt.grid(True)\n",
    "plt.show()"
   ]
  }
 ],
 "metadata": {
  "kernelspec": {
   "display_name": "thesis_con",
   "language": "python",
   "name": "python3"
  },
  "language_info": {
   "codemirror_mode": {
    "name": "ipython",
    "version": 3
   },
   "file_extension": ".py",
   "mimetype": "text/x-python",
   "name": "python",
   "nbconvert_exporter": "python",
   "pygments_lexer": "ipython3",
   "version": "3.11.11"
  }
 },
 "nbformat": 4,
 "nbformat_minor": 2
}
